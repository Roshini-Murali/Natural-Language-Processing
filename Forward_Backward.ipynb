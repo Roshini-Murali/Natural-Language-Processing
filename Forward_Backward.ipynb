{
 "cells": [
  {
   "cell_type": "code",
   "execution_count": 9,
   "metadata": {},
   "outputs": [],
   "source": [
    "import numpy as np"
   ]
  },
  {
   "cell_type": "code",
   "execution_count": 10,
   "metadata": {},
   "outputs": [
    {
     "name": "stdout",
     "output_type": "stream",
     "text": [
      "Number of hidden states : 2\n",
      "Number of observations  : 3\n"
     ]
    }
   ],
   "source": [
    "# Define the state space\n",
    "states = [\"cola preference\", \"ice tea preference\"]\n",
    "n_states = len(states)\n",
    "print('Number of hidden states :',n_states)\n",
    "# Define the observation space\n",
    "observations = [\"cola\", \"ice tea\",\"lemonade\"]\n",
    "n_observations = len(observations)\n",
    "print('Number of observations  :',n_observations)"
   ]
  },
  {
   "cell_type": "code",
   "execution_count": 11,
   "metadata": {},
   "outputs": [
    {
     "name": "stdout",
     "output_type": "stream",
     "text": [
      "State probability:  [1, 0]\n",
      "\n",
      "Transition probability:\n",
      " [[0.7 0.3]\n",
      " [0.5 0.5]]\n",
      "\n",
      "Emission probability:\n",
      " [[0.6 0.1 0.3]\n",
      " [0.1 0.7 0.2]]\n"
     ]
    }
   ],
   "source": [
    "# Initial state distribution (pi values of state)\n",
    "state_probability = [1, 0]\n",
    "print(\"State probability: \", state_probability)\n",
    "# State transition probabilities between hidden states\n",
    "transition_probability = np.array([[0.7, 0.3],\n",
    "                                   [0.5, 0.5]])\n",
    "print(\"\\nTransition probability:\\n\", transition_probability)\n",
    "# Emission probability of observations\n",
    "emission_probability= np.array([[0.6, 0.1,0.3],\n",
    "                                 [0.1, 0.7,0.2]])\n",
    "print(\"\\nEmission probability:\\n\", emission_probability)"
   ]
  },
  {
   "cell_type": "code",
   "execution_count": 12,
   "metadata": {},
   "outputs": [
    {
     "name": "stdout",
     "output_type": "stream",
     "text": [
      "[2, 1, 0]\n"
     ]
    }
   ],
   "source": [
    "# output sequence\n",
    "cola=0\n",
    "ice=1\n",
    "lem=2\n",
    "op_seq=[lem,ice,cola]\n",
    "print(op_seq)"
   ]
  },
  {
   "cell_type": "code",
   "execution_count": 13,
   "metadata": {},
   "outputs": [
    {
     "name": "stdout",
     "output_type": "stream",
     "text": [
      "Total probability:  0.03149999999999999\n"
     ]
    }
   ],
   "source": [
    "# Trellis-The forward procedure\n",
    "def forward(state_probability,transition_probability,emission_probability):\n",
    "    for k in range(3):\n",
    "        alp_c=0\n",
    "        alp_i=0\n",
    "        for j in range(2):\n",
    "            alp_c+=(state_probability[j]*transition_probability[j][0]*emission_probability[j][op_seq[k]])\n",
    "            alp_i+=(state_probability[j]*transition_probability[j][1]*emission_probability[j][op_seq[k]])\n",
    "        state_probability[0]=alp_c\n",
    "        state_probability[1]=alp_i\n",
    "    print(\"Total probability: \",alp_c+alp_i)\n",
    "forward(state_probability,transition_probability,emission_probability)"
   ]
  },
  {
   "cell_type": "code",
   "execution_count": 14,
   "metadata": {},
   "outputs": [
    {
     "name": "stdout",
     "output_type": "stream",
     "text": [
      "Total probability:  0.0315\n"
     ]
    }
   ],
   "source": [
    "# Initial state distribution (pi values of state)\n",
    "state_probability = [1, 0]\n",
    "new = [1,1]\n",
    "# State transition probabilities between hidden states\n",
    "transition_probability = np.array([[0.7, 0.3],\n",
    "                                   [0.5, 0.5]])\n",
    "# Emission probability of observations\n",
    "emission_probability= np.array([[0.6, 0.1,0.3],\n",
    "                                 [0.1, 0.7,0.2]])\n",
    "# Trellis-The backward procedure\n",
    "def backward(new,transition_probability,emission_probability):\n",
    "    for k in range(2,-1,-1):\n",
    "        beta_c=0\n",
    "        beta_i=0\n",
    "        for j in range(2):\n",
    "            beta_c+=(new[j]*transition_probability[0][j]*emission_probability[0][op_seq[k]])\n",
    "            beta_i+=(new[j]*transition_probability[1][j]*emission_probability[1][op_seq[k]])\n",
    "        new[0]=beta_c\n",
    "        new[1]=beta_i\n",
    "    print(\"Total probability: \",beta_c*state_probability[0] + beta_i*state_probability[1])\n",
    "backward(new,transition_probability,emission_probability)"
   ]
  }
 ],
 "metadata": {
  "kernelspec": {
   "display_name": "Python 3",
   "language": "python",
   "name": "python3"
  },
  "language_info": {
   "codemirror_mode": {
    "name": "ipython",
    "version": 3
   },
   "file_extension": ".py",
   "mimetype": "text/x-python",
   "name": "python",
   "nbconvert_exporter": "python",
   "pygments_lexer": "ipython3",
   "version": "3.12.0"
  }
 },
 "nbformat": 4,
 "nbformat_minor": 2
}
