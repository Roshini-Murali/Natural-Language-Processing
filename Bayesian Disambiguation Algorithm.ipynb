{
 "cells": [
  {
   "cell_type": "code",
   "execution_count": 6,
   "id": "aa9c25ea",
   "metadata": {},
   "outputs": [
    {
     "name": "stdout",
     "output_type": "stream",
     "text": [
      "Enter number of classes: 5\n",
      "Enter name of the classF\n",
      "Enter number of elements: 6\n",
      "put \n",
      "coat\n",
      "black\n",
      "chair\n",
      "sat\n",
      "down\n",
      "Enter name of the classF\n",
      "Enter number of elements: 4\n",
      "chair\n",
      "made\n",
      "timber\n",
      "company\n",
      "Enter name of the classP\n",
      "Enter number of elements: 3\n",
      "chair\n",
      "institute\n",
      "best\n",
      "Enter name of the classP\n",
      "Enter number of elements: 3\n",
      "award\n",
      "IT\n",
      "chair\n",
      "Enter name of the classF\n",
      "Enter number of elements: 6\n",
      "type\n",
      "diff\n",
      "chair\n",
      "award\n",
      "fun\n",
      "use\n",
      "Class Furniture: [['put ', 'coat', 'black', 'chair', 'sat', 'down'], ['chair', 'made', 'timber', 'company'], ['type', 'diff', 'chair', 'award', 'fun', 'use']]\n",
      "Class Position: [['chair', 'institute', 'best'], ['award', 'IT', 'chair']]\n"
     ]
    }
   ],
   "source": [
    "#Bayesian Classification\n",
    "lis1=[]\n",
    "lis2=[]\n",
    "n=int(input(\"Enter number of classes: \"))\n",
    "for i in range(n):\n",
    "    l=[]\n",
    "    na=input(\"Enter name of the class\")\n",
    "    if(na=='F'):\n",
    "        n1=int(input(\"Enter number of elements: \"))\n",
    "        for j in range(n1):\n",
    "            l.append(input())\n",
    "        lis1.append(l)\n",
    "    if(na=='P'):\n",
    "        n1=int(input(\"Enter number of elements: \"))\n",
    "        for j in range(n1):\n",
    "            l.append(input())\n",
    "        lis2.append(l)\n",
    "print(\"Class Furniture:\",lis1)\n",
    "print(\"Class Position:\",lis2)\n",
    "    "
   ]
  },
  {
   "cell_type": "code",
   "execution_count": 33,
   "id": "42f539c1",
   "metadata": {},
   "outputs": [
    {
     "name": "stdout",
     "output_type": "stream",
     "text": [
      "Prior probability of calss Furniture:  0.6\n",
      "Prior probability of calss Position:  0.4\n",
      "['sat', 'use', 'put ', 'down', 'type', 'chair', 'company', 'award', 'fun', 'made', 'diff', 'coat', 'timber', 'black']\n",
      "['chair', 'best', 'IT', 'institute', 'award']\n",
      "['sat', 'use', 'put ', 'down', 'type', 'chair', 'company', 'award', 'fun', 'made', 'diff', 'coat', 'timber', 'black', 'best', 'IT', 'institute']\n",
      "Number of unique words in vocabulary v is  17\n"
     ]
    }
   ],
   "source": [
    "# Calculating prior probabilities\n",
    "pf= len(lis1)/n\n",
    "pp= len(lis2)/n\n",
    "print(\"Prior probability of calss Furniture: \",pf)\n",
    "print(\"Prior probability of calss Position: \",pp)\n",
    "\n",
    "result={x for i in lis1 for x in i}\n",
    "result1={x for i in lis2 for x in i}\n",
    "print(list(result))\n",
    "print(list(result1))\n",
    "lis3=list(result)\n",
    "lis4=list(result1)\n",
    "for i in lis4:\n",
    "    if i not in lis3:\n",
    "        lis3.append(i)\n",
    "print(lis3) #List of unique elements\n",
    "v=len(lis3)\n",
    "print(\"Number of unique words in vocabulary v is \",v)"
   ]
  },
  {
   "cell_type": "code",
   "execution_count": 53,
   "id": "f539523c",
   "metadata": {},
   "outputs": [
    {
     "name": "stdout",
     "output_type": "stream",
     "text": [
      "without smoothing\n",
      "[1, 3, 0, 1]\n",
      "P( award /F)= 0.3333333333333333\n",
      "P( chair /F)= 1.0\n",
      "P( IT /F)= 0.0\n",
      "P( company /F)= 0.3333333333333333\n"
     ]
    }
   ],
   "source": [
    "test_set=['award','chair','IT','company']\n",
    "count_lis=[]\n",
    "for i in test_set:\n",
    "    cnt=0\n",
    "    for x in lis1:\n",
    "        if i in x:\n",
    "            cnt+=1\n",
    "    count_lis.append(cnt)\n",
    "print(\"without smoothing\")\n",
    "print(count_lis)\n",
    "k=0\n",
    "for i in test_set:\n",
    "    # Calculate and print the probability of each word in the test set given the sense (Furniture)\n",
    "    print(\"P(\",i,\"/F)=\",count_lis[k]/len(lis1))\n",
    "    k+=1"
   ]
  },
  {
   "cell_type": "code",
   "execution_count": 54,
   "id": "9df93f2a",
   "metadata": {},
   "outputs": [
    {
     "name": "stdout",
     "output_type": "stream",
     "text": [
      "without smoothing\n",
      "[1, 2, 1, 0]\n",
      "P( award /P)= 0.5\n",
      "P( chair /P)= 1.0\n",
      "P( IT /P)= 0.5\n",
      "P( company /P)= 0.0\n"
     ]
    }
   ],
   "source": [
    "count_lis1=[]\n",
    "for i in test_set:\n",
    "    cnt=0\n",
    "    for x in lis2:\n",
    "        if i in x:\n",
    "            cnt+=1\n",
    "    count_lis1.append(cnt)\n",
    "print(\"without smoothing\")\n",
    "print(count_lis1)\n",
    "k=0\n",
    "for i in test_set:\n",
    "    # Calculate and print the probability of each word in the test set given the sense (Position)\n",
    "    print(\"P(\",i,\"/P)=\",count_lis1[k]/len(lis2))\n",
    "    k+=1"
   ]
  },
  {
   "cell_type": "code",
   "execution_count": 55,
   "id": "b6c16a8f",
   "metadata": {},
   "outputs": [
    {
     "name": "stdout",
     "output_type": "stream",
     "text": [
      "With smoothing\n",
      "[1, 3, 0, 1]\n",
      "P( award /F)= 0.1\n",
      "P( chair /F)= 0.2\n",
      "P( IT /F)= 0.05\n",
      "P( company /F)= 0.1\n",
      "[0.1, 0.2, 0.05, 0.1]\n"
     ]
    }
   ],
   "source": [
    "print(\"With smoothing\")\n",
    "print(count_lis)\n",
    "k=0\n",
    "llist1=[]\n",
    "for i in test_set:\n",
    "    # Calculate the smoothed probability using Laplace smoothing\n",
    "    # Add 1 to the count and v(no. of unique words) to the length of list containing furniture class\n",
    "    el=((count_lis[k]+1)/(len(lis1)+v))\n",
    "    print(\"P(\",i,\"/F)=\",el)\n",
    "    llist1.append(el)\n",
    "    k+=1\n",
    "print(llist1)"
   ]
  },
  {
   "cell_type": "code",
   "execution_count": 57,
   "id": "394b165f",
   "metadata": {},
   "outputs": [
    {
     "name": "stdout",
     "output_type": "stream",
     "text": [
      "with smoothing\n",
      "[1, 2, 1, 0]\n",
      "P( award /P)= 0.10526315789473684\n",
      "P( chair /P)= 0.15789473684210525\n",
      "P( IT /P)= 0.10526315789473684\n",
      "P( company /P)= 0.05263157894736842\n",
      "[0.10526315789473684, 0.15789473684210525, 0.10526315789473684, 0.05263157894736842]\n"
     ]
    }
   ],
   "source": [
    "print(\"with smoothing\")\n",
    "print(count_lis1)\n",
    "k=0\n",
    "llist2=[]\n",
    "for i in test_set:\n",
    "    # Calculate the smoothed probability using Laplace smoothing\n",
    "    # Add 1 to the count and v(no. of unique words) to the length of list containing position class\n",
    "    el=((count_lis1[k]+1)/(len(lis2)+v))\n",
    "    print(\"P(\",i,\"/P)=\",el)\n",
    "    llist2.append(el)\n",
    "    k+=1\n",
    "print(llist2)"
   ]
  },
  {
   "cell_type": "code",
   "execution_count": 62,
   "id": "0ac113af",
   "metadata": {},
   "outputs": [
    {
     "name": "stdout",
     "output_type": "stream",
     "text": [
      "Score for class furniture is  -4.221848749616355\n"
     ]
    }
   ],
   "source": [
    "import math\n",
    "calc1=0\n",
    "for i in llist1:\n",
    "    calc1=calc1+math.log(i,10)\n",
    "score=math.log(pf,10)+calc1\n",
    "print(\"Score for class furniture is \",score)"
   ]
  },
  {
   "cell_type": "code",
   "execution_count": 64,
   "id": "91503b07",
   "metadata": {},
   "outputs": [
    {
     "name": "stdout",
     "output_type": "stream",
     "text": [
      "Score for class position is  -4.433773166435728\n"
     ]
    }
   ],
   "source": [
    "calc2=0\n",
    "for i in llist2:\n",
    "    calc2=calc2+math.log(i,10)\n",
    "score1=math.log(pp,10)+calc2\n",
    "print(\"Score for class position is \",score1)"
   ]
  },
  {
   "cell_type": "code",
   "execution_count": 66,
   "id": "74fca045",
   "metadata": {},
   "outputs": [
    {
     "name": "stdout",
     "output_type": "stream",
     "text": [
      "Sense of chair is furniture\n"
     ]
    }
   ],
   "source": [
    "if(score>score1):\n",
    "    print(\"Sense of chair is furniture\")\n",
    "else:\n",
    "    print(\"Sense of chair is position\")"
   ]
  },
  {
   "cell_type": "code",
   "execution_count": null,
   "id": "8c779f44",
   "metadata": {},
   "outputs": [],
   "source": []
  }
 ],
 "metadata": {
  "kernelspec": {
   "display_name": "Python 3",
   "language": "python",
   "name": "python3"
  },
  "language_info": {
   "codemirror_mode": {
    "name": "ipython",
    "version": 3
   },
   "file_extension": ".py",
   "mimetype": "text/x-python",
   "name": "python",
   "nbconvert_exporter": "python",
   "pygments_lexer": "ipython3",
   "version": "3.8.8"
  }
 },
 "nbformat": 4,
 "nbformat_minor": 5
}
