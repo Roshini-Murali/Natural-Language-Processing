{
  "cells": [
    {
      "cell_type": "code",
      "execution_count": 13,
      "metadata": {
        "id": "huZlEV56WGNW"
      },
      "outputs": [],
      "source": [
        "import pandas as pd\n",
        "import string"
      ]
    },
    {
      "cell_type": "code",
      "execution_count": 14,
      "metadata": {
        "id": "PK_SanX_Wh-Y"
      },
      "outputs": [],
      "source": [
        "df=pd.read_csv('bacteria_list_200.csv')"
      ]
    },
    {
      "cell_type": "code",
      "execution_count": 15,
      "metadata": {
        "colab": {
          "base_uri": "https://localhost:8080/"
        },
        "id": "QbpbeB3PW9vQ",
        "outputId": "0748cb63-ffca-43bc-c87c-1454d5c510bb"
      },
      "outputs": [
        {
          "data": {
            "text/plain": [
              "(199, 4)"
            ]
          },
          "execution_count": 15,
          "metadata": {},
          "output_type": "execute_result"
        }
      ],
      "source": [
        "# Prints the dimensions of the DataFrame\n",
        "df.shape"
      ]
    },
    {
      "cell_type": "code",
      "execution_count": 16,
      "metadata": {
        "colab": {
          "base_uri": "https://localhost:8080/"
        },
        "id": "HnyfCSS-XCnP",
        "outputId": "2fc9966b-d7e5-4fd1-e38a-85ab457c57c9"
      },
      "outputs": [
        {
          "data": {
            "text/plain": [
              "array(['Escherichia coli', 'Staphylococcus aureus',\n",
              "       'Lactobacillus acidophilus', 'Bacillus subtilis',\n",
              "       'Clostridium botulinum', 'Streptococcus pneumoniae',\n",
              "       'Pseudomonas aeruginosa', 'Mycobacterium tuberculosis',\n",
              "       'Vibrio cholerae', 'Salmonella enterica', 'Helicobacter pylori',\n",
              "       'Neisseria gonorrhoeae', 'Lactococcus lactis',\n",
              "       'Bacteroides fragilis', 'Campylobacter jejuni',\n",
              "       'Listeria monocytogenes', 'Acetobacter aceti',\n",
              "       'Streptococcus mutans', 'Propionibacterium acnes',\n",
              "       'Bifidobacterium bifidum', 'Clostridium difficile',\n",
              "       'Legionella pneumophila', 'Borrelia burgdorferi',\n",
              "       'Treponema pallidum', 'Chlamydia trachomatis',\n",
              "       'Mycoplasma pneumoniae', 'Streptococcus pyogenes',\n",
              "       'Haemophilus influenzae', 'Leptospira interrogans',\n",
              "       'Streptococcus agalactiae', 'Shigella dysenteriae',\n",
              "       'Enterococcus faecalis', 'Corynebacterium diphtheriae',\n",
              "       'Klebsiella pneumoniae', 'Rickettsia rickettsii',\n",
              "       'Serratia marcescens', 'Proteus mirabilis',\n",
              "       'Gardnerella vaginalis', 'Francisella tularensis',\n",
              "       'Yersinia pestis', 'Clostridium perfringens',\n",
              "       'Staphylococcus epidermidis', 'Actinomyces israelii',\n",
              "       'Fusobacterium nucleatum', 'Brucella abortus', 'Coxiella burnetii',\n",
              "       'Streptococcus salivarius', 'Streptomyces coelicolor',\n",
              "       'Rhodobacter sphaeroides', 'Caulobacter crescentus',\n",
              "       'Anabaena sp.', 'Nitrosomonas europaea', 'Rhizobium leguminosarum',\n",
              "       'Agrobacterium tumefaciens', 'Bordetella pertussis',\n",
              "       'Dermatophilus congolensis', 'Ehrlichia chaffeensis',\n",
              "       'Haemophilus ducreyi', 'Ignatzschineria indica',\n",
              "       'Janthinobacterium lividum', 'Klebsiella oxytoca',\n",
              "       'Legionella longbeachae', 'Moraxella catarrhalis',\n",
              "       'Neisseria meningitidis', 'Ochrobactrum anthropi',\n",
              "       'Pasteurella multocida', 'Q fever agent (Coxiella burnetii)',\n",
              "       'Rickettsia prowazekii', 'Serratia liquefaciens',\n",
              "       'Thermus aquaticus', 'Ureaplasma urealyticum',\n",
              "       'Variovorax paradoxus', 'Wolbachia sp.', 'Xanthomonas campestris',\n",
              "       'Yersinia enterocolitica', 'Zymomonas mobilis',\n",
              "       'Aeromonas hydrophila', 'Bifidobacterium longum',\n",
              "       'Citrobacter freundii', 'Desulfovibrio vulgaris',\n",
              "       'Enterobacter aerogenes', 'Flavobacterium columnare',\n",
              "       'Geobacter sulfurreducens', 'Halomonas elongata',\n",
              "       'Idiomarina loihiensis', 'Jannaschia sp.', 'Kocuria rhizophila',\n",
              "       'Lysinibacillus sphaericus', 'Micrococcus luteus',\n",
              "       'Nocardia asteroides', 'Oceanospirillum linum',\n",
              "       'Pantoea agglomerans', 'Acidithiobacillus ferrooxidans',\n",
              "       'Alcaligenes faecalis', 'Bdellovibrio bacteriovorus',\n",
              "       'Burkholderia cepacia', 'Caldicellulosiruptor bescii',\n",
              "       'Deinococcus radiodurans', 'Enterococcus durans',\n",
              "       'Flavobacterium psychrophilum', 'Gluconobacter oxydans',\n",
              "       'Halobacterium salinarum', 'Isoptericola variabilis',\n",
              "       'Janibacter hoylei', 'Kytococcus sedentarius',\n",
              "       'Leuconostoc mesenteroides', 'Methanobrevibacter smithii',\n",
              "       'Nitrobacter winogradskyi', 'Oenococcus oeni',\n",
              "       'Prevotella intermedia', 'Quinella ovalis', 'Rhodococcus fascians',\n",
              "       'Sphingomonas wittichii', 'Thioalkalivibrio sulfidiphilus',\n",
              "       'Ureibacillus thermosphaericus', 'Veillonella parvula',\n",
              "       'Xenorhabdus nematophila', 'Yokenella regensburgei',\n",
              "       'Zooglea ramigera', 'Aeromonas salmonicida',\n",
              "       'Brevundimonas diminuta', 'Chryseobacterium indologenes',\n",
              "       'Dyadobacter fermentans', 'Exiguobacterium sibiricum',\n",
              "       'Frankia alni', 'Gordonia bronchialis',\n",
              "       'Hydrogenophaga pseudoflava', 'Inquilinus limosus',\n",
              "       'Jonesia denitrificans', 'Klebsiella variicola',\n",
              "       'Lelliottia amnigena', 'Methylobacterium extorquens',\n",
              "       'Nocardiopsis dassonvillei', 'Opitutus terrae',\n",
              "       'Pseudonocardia dioxanivorans', 'Roseomonas gilardii',\n",
              "       'Stenotrophomonas maltophilia', 'Tropheryma whipplei',\n",
              "       'Achromobacter xylosoxidans', 'Alloiococcus otitidis',\n",
              "       'Azospirillum brasilense', 'Bartonella henselae',\n",
              "       'Bifidobacterium adolescentis', 'Campylobacter lari',\n",
              "       'Capnocytophaga canimorsus', 'Carnobacterium maltaromaticum',\n",
              "       'Chromobacterium violaceum', 'Clavibacter michiganensis',\n",
              "       'Corynebacterium striatum', 'Desulfitobacterium hafniense',\n",
              "       'Eikenella corrodens', 'Facklamia hominis',\n",
              "       'Gallionella ferruginea', 'Hafnia alvei', 'Iodobacter fluviatile',\n",
              "       'Kingella kingae', 'Lachnoclostridium phytofermentans',\n",
              "       'Leclercia adecarboxylata', 'Mannheimia haemolytica',\n",
              "       'Nocardia brasiliensis', 'Oligella urethralis',\n",
              "       'Paenibacillus polymyxa', 'Paracoccus denitrificans',\n",
              "       'Ralstonia solanacearum', 'Sanguibacter keddieii',\n",
              "       'Tannerella forsythia', 'Unidentified Bacillus sp.',\n",
              "       'Vagococcus fluvialis', 'Weissella confusa', 'Xylella fastidiosa',\n",
              "       'Yersinia ruckeri', 'Zoogloea ramigera',\n",
              "       'Acetobacter pasteurianus', 'Brevibacillus brevis',\n",
              "       'Curtobacterium flaccumfaciens', 'Dysgonomonas gadei',\n",
              "       'Empedobacter brevis', 'Gemella haemolysans', 'Helcococcus kunzii',\n",
              "       'Ignavigranum ruoffiae', 'Jonesia quinghaiensis',\n",
              "       'Kluyvera ascorbata', 'Lysobacter enzymogenes',\n",
              "       'Megasphaera elsdenii', 'Neorickettsia sennetsu',\n",
              "       'Novosphingobium aromaticivorans', 'Ornithinibacillus scapharcae',\n",
              "       'Pirellula staleyi', 'Quatrococcus ludwigii',\n",
              "       'Rathayibacter toxicus', 'Simonsiella muelleri',\n",
              "       'Tepidimonas arfidensis', 'Ulvibacter litoralis',\n",
              "       'Vibrio vulnificus'], dtype=object)"
            ]
          },
          "execution_count": 16,
          "metadata": {},
          "output_type": "execute_result"
        }
      ],
      "source": [
        "df['Name'].unique()"
      ]
    },
    {
      "cell_type": "code",
      "execution_count": 17,
      "metadata": {
        "colab": {
          "base_uri": "https://localhost:8080/"
        },
        "id": "bLkEu5c1XwZI",
        "outputId": "e6e9df64-b9a8-469f-ff92-1b6aa0266e6c"
      },
      "outputs": [
        {
          "data": {
            "text/plain": [
              "194"
            ]
          },
          "execution_count": 17,
          "metadata": {},
          "output_type": "execute_result"
        }
      ],
      "source": [
        "len(df['Name'].unique())"
      ]
    },
    {
      "cell_type": "code",
      "execution_count": 18,
      "metadata": {
        "colab": {
          "base_uri": "https://localhost:8080/"
        },
        "id": "hu7-1dEqXzo_",
        "outputId": "4242fd0c-887c-480b-d673-28d6a98967cb"
      },
      "outputs": [
        {
          "data": {
            "text/plain": [
              "array(['Enterobacteriaceae', 'Staphylococcaceae', 'Lactobacillaceae',\n",
              "       'Bacillaceae', 'Clostridiaceae', 'Streptococcaceae',\n",
              "       'Pseudomonadaceae', 'Mycobacteriaceae', 'Vibrionaceae',\n",
              "       'Helicobacteraceae', 'Neisseriaceae', 'Bacteroidaceae',\n",
              "       'Campylobacteraceae', 'Listeriaceae', 'Acetobacteraceae',\n",
              "       'Propionibacteriaceae', 'Bifidobacteriaceae', 'Legionellaceae',\n",
              "       'Spirochaetaceae', 'Chlamydiaceae', 'Mycoplasmataceae',\n",
              "       'Pasteurellaceae', 'Leptospiraceae', 'Enterococcaceae',\n",
              "       'Corynebacteriaceae', 'Rickettsiaceae', 'Francisellaceae',\n",
              "       'Actinomycetaceae', 'Fusobacteriaceae', 'Brucellaceae',\n",
              "       'Coxiellaceae', 'Streptomycetaceae', 'Rhodobacteraceae',\n",
              "       'Caulobacteraceae', 'Nostocaceae', 'Nitrosomonadaceae',\n",
              "       'Rhizobiaceae', 'Alcaligenaceae', 'Dermatophilaceae',\n",
              "       'Anaplasmataceae', 'Ignatzschineriaceae', 'Oxalobacteraceae',\n",
              "       'Moraxellaceae', 'Deinococcaceae', 'Comamonadaceae',\n",
              "       'Xanthomonadaceae', 'Sphingomonadaceae', 'Aeromonadaceae',\n",
              "       'Desulfovibrionaceae', 'Flavobacteriaceae', 'Geobacteraceae',\n",
              "       'Halomonadaceae', 'Idiomarinaceae', 'Micrococcaceae',\n",
              "       'Nocardiaceae', 'Oceanospirillaceae', 'Acidithiobacillaceae',\n",
              "       'Bdellovibrionaceae', 'Burkholderiaceae', 'Halobacteriaceae',\n",
              "       'Promicromonosporaceae', 'Intrasporangiaceae', 'Leuconostocaceae',\n",
              "       'Methanobacteriaceae', 'Nitrobacteraceae', 'Prevotellaceae',\n",
              "       'Lachnospiraceae', 'Ectothiorhodospiraceae', 'Veillonellaceae',\n",
              "       'Zoogloeaceae', 'Cytophagaceae', 'Frankiaceae', 'Tsukamurellaceae',\n",
              "       'Methylobacteriaceae', 'Nocardiopsaceae', 'Opitutaceae',\n",
              "       'Pseudonocardiaceae', 'Rhodospirillaceae', 'Tropherymataceae',\n",
              "       ' Mycoplasmataceae', 'Bartonellaceae', 'Carnobacteriaceae',\n",
              "       'Chromobacteriaceae', 'Peptococcaceae', 'Gallionellaceae',\n",
              "       'Paenibacillaceae', 'Ralstoniaceae', 'Gemellaceae',\n",
              "       'Aerococcaceae', 'Planococcaceae', 'Planctomycetaceae',\n",
              "       'Microbacteriaceae', 'Simonsiellaceae'], dtype=object)"
            ]
          },
          "execution_count": 18,
          "metadata": {},
          "output_type": "execute_result"
        }
      ],
      "source": [
        "df['Family'].unique()"
      ]
    },
    {
      "cell_type": "code",
      "execution_count": 19,
      "metadata": {
        "colab": {
          "base_uri": "https://localhost:8080/"
        },
        "id": "FbgMr4MkX6Kv",
        "outputId": "37986acd-bf8b-4a86-fe33-426f16586450"
      },
      "outputs": [
        {
          "data": {
            "text/plain": [
              "93"
            ]
          },
          "execution_count": 19,
          "metadata": {},
          "output_type": "execute_result"
        }
      ],
      "source": [
        "len(df['Family'].unique())"
      ]
    },
    {
      "cell_type": "code",
      "execution_count": 20,
      "metadata": {
        "colab": {
          "base_uri": "https://localhost:8080/"
        },
        "id": "8-T2lPX8X9Ro",
        "outputId": "e512889b-42fc-4279-c0c0-3c6374347b82"
      },
      "outputs": [
        {
          "data": {
            "text/plain": [
              "array(['Intestinal tract', 'Skin, nasal passages',\n",
              "       'Human mouth & intestine', 'Soil', 'Soil, improperly canned foods',\n",
              "       'Throat, nasal passages', 'Soil, water, skin flora', 'Lungs',\n",
              "       'Contaminated water', 'Stomach lining', 'Genitourinary tract',\n",
              "       'Milk, plants', 'Gastrointestinal tract', 'Soil, water',\n",
              "       'Fruits, vinegar', 'Human mouth', 'Skin', 'Water systems',\n",
              "       'Tick-infested areas', 'Human body', 'Human genitourinary tract',\n",
              "       'Respiratory tract', 'Throat, skin',\n",
              "       'Water contaminated by animal urine',\n",
              "       'Intestinal and genitourinary tracts', 'Human gut', 'Throat',\n",
              "       'Mouth, skin, intestines', 'Soil, water, intestines',\n",
              "       'Infected animals, water', 'Infected fleas', 'Soil, intestines',\n",
              "       'Mouth, throat', 'Infected animals', 'Human mouth, throat',\n",
              "       'Freshwater, marine environments', 'Freshwater',\n",
              "       'Freshwater environments', 'Root nodules of legumes',\n",
              "       'Plant tissues', 'Animal skin', 'White-tailed deer', 'Human skin',\n",
              "       'Infected wounds', 'Animal respiratory tracts', 'Body lice',\n",
              "       'Hot springs', 'Human urogenital tract', 'Arthropods', 'Plants',\n",
              "       'Sugary environments', 'Salty environments',\n",
              "       'Deep-sea environments', 'Marine environments',\n",
              "       'Skin, environment', 'Plants, soil',\n",
              "       'Acidic, sulfidic environments', 'Soil, water, human feces',\n",
              "       'Predatory on other bacteria', 'Soil, water, rhizosphere',\n",
              "       'Radioactive environments', 'Human and animal intestines',\n",
              "       'Freshwater, cold environments', 'Fruits, flowers', 'Salt lakes',\n",
              "       'High-altitude air', 'Plants, fermented foods',\n",
              "       'Human and animal guts', 'Wine, fermented beverages',\n",
              "       'Human oral cavity', 'Ruminant gut',\n",
              "       'Alkaline, sulfidic environments', 'Hot compost',\n",
              "       'Human and animal mouths', 'Symbiotic with nematodes',\n",
              "       'Environment, occasionally human samples',\n",
              "       'Wastewater treatment systems', 'Fish', 'Water, environment',\n",
              "       'Water, soil', 'Soil, plant roots', 'Cold environments',\n",
              "       'Root nodules of alder trees', 'Soil, human respiratory tract',\n",
              "       'Human respiratory tract', 'Plant surfaces, human gut',\n",
              "       'Water, soil, human gut', 'Soil, plants',\n",
              "       'Water, human clinical samples',\n",
              "       'Soil, water, human clinical samples', 'Human intestine',\n",
              "       ' Human urogenital tract', 'Human ear', 'Soil, roots of plants',\n",
              "       'Infected cats, cat fleas', 'Wild birds, domestic animals',\n",
              "       'Dog and cat saliva', 'Food products', 'Soil, sediment',\n",
              "       'Human mouth, upper respiratory tract',\n",
              "       'Human urogenital and respiratory tracts',\n",
              "       'Freshwater, iron-rich environments',\n",
              "       'Intestinal tracts of humans and animals', 'Human oropharynx',\n",
              "       'Respiratory tract of cattle', 'Soil, root nodules',\n",
              "       'Dairy products', 'Various environments', 'Water, fish',\n",
              "       'Fermented foods, human clinical samples', 'Fermented beverages',\n",
              "       'Water, soil, human clinical samples', 'Human mucous membranes',\n",
              "       'Human skin, wounds', 'Environment, human gut',\n",
              "       'Animal intestines', 'Infected fish', 'Infected grasses',\n",
              "       'Animal mucous membranes', 'Thermal springs'], dtype=object)"
            ]
          },
          "execution_count": 20,
          "metadata": {},
          "output_type": "execute_result"
        }
      ],
      "source": [
        "df['Where Found'].unique()"
      ]
    },
    {
      "cell_type": "code",
      "execution_count": 21,
      "metadata": {
        "colab": {
          "base_uri": "https://localhost:8080/"
        },
        "id": "K3hHInOMYEr_",
        "outputId": "f1c800b5-d658-47f9-c65c-31b31f84cbb5"
      },
      "outputs": [
        {
          "data": {
            "text/plain": [
              "120"
            ]
          },
          "execution_count": 21,
          "metadata": {},
          "output_type": "execute_result"
        }
      ],
      "source": [
        "len(df['Where Found'].unique())"
      ]
    },
    {
      "cell_type": "code",
      "execution_count": 22,
      "metadata": {
        "colab": {
          "base_uri": "https://localhost:8080/"
        },
        "id": "CsWv0JVfYIov",
        "outputId": "26ab7f27-fa5e-4779-aa9d-b581ec960e97"
      },
      "outputs": [
        {
          "data": {
            "text/plain": [
              "array(['Yes', 'No'], dtype=object)"
            ]
          },
          "execution_count": 22,
          "metadata": {},
          "output_type": "execute_result"
        }
      ],
      "source": [
        "df['Harmful to Humans'].unique()"
      ]
    },
    {
      "cell_type": "code",
      "execution_count": 23,
      "metadata": {
        "id": "DYsK3T4uYQrH"
      },
      "outputs": [],
      "source": [
        "from sklearn.preprocessing import LabelEncoder\n",
        "label_encoder = LabelEncoder()\n",
        "df['Name'] = label_encoder.fit_transform(df['Name'])\n",
        "df['Family'] = label_encoder.fit_transform(df['Family'])\n",
        "df['Where Found'] = label_encoder.fit_transform(df['Where Found'])\n",
        "X = df.drop('Harmful to Humans', axis=1)  # Features\n",
        "Y = df['Harmful to Humans']  # Target variable"
      ]
    },
    {
      "cell_type": "code",
      "execution_count": 24,
      "metadata": {
        "id": "UWQMvZXIc5_w"
      },
      "outputs": [],
      "source": [
        "from sklearn.model_selection import train_test_split\n",
        "# Split the data into training and testing sets\n",
        "X_train, X_test, y_train, y_test = train_test_split(X, Y, test_size=0.2, random_state=42)"
      ]
    },
    {
      "cell_type": "code",
      "execution_count": 25,
      "metadata": {
        "colab": {
          "base_uri": "https://localhost:8080/"
        },
        "id": "_5DHsrLUdC7v",
        "outputId": "f8189aa3-0be2-45a5-f88d-a656ddeec4cb"
      },
      "outputs": [
        {
          "name": "stdout",
          "output_type": "stream",
          "text": [
            "Training set shape: (159, 3) (159,)\n",
            "Test set shape: (40, 3) (40,)\n"
          ]
        }
      ],
      "source": [
        "print(\"Training set shape:\", X_train.shape, y_train.shape)\n",
        "print(\"Test set shape:\", X_test.shape, y_test.shape)"
      ]
    },
    {
      "cell_type": "code",
      "execution_count": 26,
      "metadata": {
        "id": "opaD6BAkdeQ_"
      },
      "outputs": [],
      "source": [
        "from sklearn.neural_network import MLPClassifier"
      ]
    },
    {
      "cell_type": "code",
      "execution_count": 30,
      "metadata": {
        "id": "fyQ2xcBBdfz5"
      },
      "outputs": [],
      "source": [
        "mlp = MLPClassifier(hidden_layer_sizes=(100, 50, 30,20), activation='tanh', solver='adam', random_state=42,verbose=True,\n",
        "                   learning_rate_init=0.01,n_iter_no_change=30,max_iter=190)"
      ]
    },
    {
      "cell_type": "code",
      "execution_count": 31,
      "metadata": {
        "colab": {
          "base_uri": "https://localhost:8080/",
          "height": 1000
        },
        "id": "SMSNXFM2fBAQ",
        "outputId": "c08777c5-c4c6-4e84-e90f-a42245513187"
      },
      "outputs": [
        {
          "name": "stdout",
          "output_type": "stream",
          "text": [
            "Iteration 1, loss = 0.70309451\n",
            "Iteration 2, loss = 0.71693533\n",
            "Iteration 3, loss = 0.74343836\n",
            "Iteration 4, loss = 0.67775365\n",
            "Iteration 5, loss = 0.70220032\n",
            "Iteration 6, loss = 0.67823339\n",
            "Iteration 7, loss = 0.67512422\n",
            "Iteration 8, loss = 0.67819193\n",
            "Iteration 9, loss = 0.67313991\n",
            "Iteration 10, loss = 0.67127638\n",
            "Iteration 11, loss = 0.67176315\n",
            "Iteration 12, loss = 0.66714193\n",
            "Iteration 13, loss = 0.66349173\n",
            "Iteration 14, loss = 0.66258467\n",
            "Iteration 15, loss = 0.65828300\n",
            "Iteration 16, loss = 0.65614095\n",
            "Iteration 17, loss = 0.65504153\n",
            "Iteration 18, loss = 0.65013822\n",
            "Iteration 19, loss = 0.64766344\n",
            "Iteration 20, loss = 0.64356678\n",
            "Iteration 21, loss = 0.64045486\n",
            "Iteration 22, loss = 0.63485203\n",
            "Iteration 23, loss = 0.63107105\n",
            "Iteration 24, loss = 0.62524517\n",
            "Iteration 25, loss = 0.61862784\n",
            "Iteration 26, loss = 0.61332256\n",
            "Iteration 27, loss = 0.60952906\n",
            "Iteration 28, loss = 0.60942840\n",
            "Iteration 29, loss = 0.61465361\n",
            "Iteration 30, loss = 0.61727791\n",
            "Iteration 31, loss = 0.58575249\n",
            "Iteration 32, loss = 0.60663435\n",
            "Iteration 33, loss = 0.57815581\n",
            "Iteration 34, loss = 0.58755840\n",
            "Iteration 35, loss = 0.56993149\n",
            "Iteration 36, loss = 0.57743726\n",
            "Iteration 37, loss = 0.56485327\n",
            "Iteration 38, loss = 0.56297211\n",
            "Iteration 39, loss = 0.55620592\n",
            "Iteration 40, loss = 0.54118535\n",
            "Iteration 41, loss = 0.54834139\n",
            "Iteration 42, loss = 0.54252571\n",
            "Iteration 43, loss = 0.56464418\n",
            "Iteration 44, loss = 0.63120745\n",
            "Iteration 45, loss = 0.55236353\n",
            "Iteration 46, loss = 0.56095502\n",
            "Iteration 47, loss = 0.56324759\n",
            "Iteration 48, loss = 0.54585188\n",
            "Iteration 49, loss = 0.54737689\n",
            "Iteration 50, loss = 0.54382652\n",
            "Iteration 51, loss = 0.52675242\n",
            "Iteration 52, loss = 0.53382623\n",
            "Iteration 53, loss = 0.50820732\n",
            "Iteration 54, loss = 0.52746678\n",
            "Iteration 55, loss = 0.50309499\n",
            "Iteration 56, loss = 0.50787166\n",
            "Iteration 57, loss = 0.49310868\n",
            "Iteration 58, loss = 0.49722862\n",
            "Iteration 59, loss = 0.47917186\n",
            "Iteration 60, loss = 0.49400480\n",
            "Iteration 61, loss = 0.51753426\n",
            "Iteration 62, loss = 0.47278734\n",
            "Iteration 63, loss = 0.46626228\n",
            "Iteration 64, loss = 0.48578000\n",
            "Iteration 65, loss = 0.46967347\n",
            "Iteration 66, loss = 0.44878925\n",
            "Iteration 67, loss = 0.44730445\n",
            "Iteration 68, loss = 0.44789344\n",
            "Iteration 69, loss = 0.45933130\n",
            "Iteration 70, loss = 0.47134064\n",
            "Iteration 71, loss = 0.50560266\n",
            "Iteration 72, loss = 0.45189709\n",
            "Iteration 73, loss = 0.43086953\n",
            "Iteration 74, loss = 0.45048958\n",
            "Iteration 75, loss = 0.43097538\n",
            "Iteration 76, loss = 0.44584604\n",
            "Iteration 77, loss = 0.44427760\n",
            "Iteration 78, loss = 0.43117941\n",
            "Iteration 79, loss = 0.41528838\n",
            "Iteration 80, loss = 0.44846205\n",
            "Iteration 81, loss = 0.47201642\n",
            "Iteration 82, loss = 0.57663904\n",
            "Iteration 83, loss = 0.43757636\n",
            "Iteration 84, loss = 0.44933663\n",
            "Iteration 85, loss = 0.52179570\n",
            "Iteration 86, loss = 0.46054257\n",
            "Iteration 87, loss = 0.54674573\n",
            "Iteration 88, loss = 0.43169450\n",
            "Iteration 89, loss = 0.57463374\n",
            "Iteration 90, loss = 0.45924927\n",
            "Iteration 91, loss = 0.46893503\n",
            "Iteration 92, loss = 0.50942470\n",
            "Iteration 93, loss = 0.45056466\n",
            "Iteration 94, loss = 0.44885952\n",
            "Iteration 95, loss = 0.47477118\n",
            "Iteration 96, loss = 0.43700039\n",
            "Iteration 97, loss = 0.42672737\n",
            "Iteration 98, loss = 0.44056682\n",
            "Iteration 99, loss = 0.42847737\n",
            "Iteration 100, loss = 0.41578384\n",
            "Iteration 101, loss = 0.41786097\n",
            "Iteration 102, loss = 0.41528239\n",
            "Iteration 103, loss = 0.40274649\n",
            "Iteration 104, loss = 0.39940685\n",
            "Iteration 105, loss = 0.39664288\n",
            "Iteration 106, loss = 0.44415095\n",
            "Iteration 107, loss = 0.73963026\n",
            "Iteration 108, loss = 0.44197754\n",
            "Iteration 109, loss = 0.87013281\n",
            "Iteration 110, loss = 0.43448660\n",
            "Iteration 111, loss = 0.58279499\n",
            "Iteration 112, loss = 0.50601223\n",
            "Iteration 113, loss = 0.48546126\n",
            "Iteration 114, loss = 0.54166876\n",
            "Iteration 115, loss = 0.54990569\n",
            "Iteration 116, loss = 0.50427052\n",
            "Iteration 117, loss = 0.49777953\n",
            "Iteration 118, loss = 0.50740504\n",
            "Iteration 119, loss = 0.51462221\n",
            "Iteration 120, loss = 0.51146974\n",
            "Iteration 121, loss = 0.49078232\n",
            "Iteration 122, loss = 0.47932880\n",
            "Iteration 123, loss = 0.48144556\n",
            "Iteration 124, loss = 0.47709625\n",
            "Iteration 125, loss = 0.45300032\n",
            "Iteration 126, loss = 0.44148409\n",
            "Iteration 127, loss = 0.44353684\n",
            "Iteration 128, loss = 0.42165074\n",
            "Iteration 129, loss = 0.41351973\n",
            "Iteration 130, loss = 0.40822299\n",
            "Iteration 131, loss = 0.40543087\n",
            "Iteration 132, loss = 0.38849193\n",
            "Iteration 133, loss = 0.40613500\n",
            "Iteration 134, loss = 0.39964877\n",
            "Iteration 135, loss = 0.38122397\n",
            "Iteration 136, loss = 0.39435736\n",
            "Iteration 137, loss = 0.41184439\n",
            "Iteration 138, loss = 0.38276266\n",
            "Iteration 139, loss = 0.37532145\n",
            "Iteration 140, loss = 0.38788522\n",
            "Iteration 141, loss = 0.37764231\n",
            "Iteration 142, loss = 0.36533313\n",
            "Iteration 143, loss = 0.36560033\n",
            "Iteration 144, loss = 0.36843416\n",
            "Iteration 145, loss = 0.36647672\n",
            "Iteration 146, loss = 0.35921353\n",
            "Iteration 147, loss = 0.35625433\n",
            "Iteration 148, loss = 0.36015940\n",
            "Iteration 149, loss = 0.35919701\n",
            "Iteration 150, loss = 0.36004537\n",
            "Iteration 151, loss = 0.35366384\n",
            "Iteration 152, loss = 0.34946115\n",
            "Iteration 153, loss = 0.34710312\n",
            "Iteration 154, loss = 0.34559906\n",
            "Iteration 155, loss = 0.34558552\n",
            "Iteration 156, loss = 0.35656729\n",
            "Iteration 157, loss = 0.41046451\n",
            "Iteration 158, loss = 0.66244888\n",
            "Iteration 159, loss = 0.38081341\n",
            "Iteration 160, loss = 0.74527166\n",
            "Iteration 161, loss = 0.55022020\n",
            "Iteration 162, loss = 0.65841807\n",
            "Iteration 163, loss = 0.58616062\n",
            "Iteration 164, loss = 0.48793648\n",
            "Iteration 165, loss = 0.57334171\n",
            "Iteration 166, loss = 0.56909526\n",
            "Iteration 167, loss = 0.49805269\n",
            "Iteration 168, loss = 0.50426378\n",
            "Iteration 169, loss = 0.52510043\n",
            "Iteration 170, loss = 0.52709066\n",
            "Iteration 171, loss = 0.51803184\n",
            "Iteration 172, loss = 0.49722378\n",
            "Iteration 173, loss = 0.48088990\n",
            "Iteration 174, loss = 0.48549502\n",
            "Iteration 175, loss = 0.46451271\n",
            "Iteration 176, loss = 0.44770685\n",
            "Iteration 177, loss = 0.44282777\n",
            "Iteration 178, loss = 0.44435306\n",
            "Iteration 179, loss = 0.44070925\n",
            "Iteration 180, loss = 0.42571576\n",
            "Iteration 181, loss = 0.40913774\n",
            "Iteration 182, loss = 0.39953496\n",
            "Iteration 183, loss = 0.39014295\n",
            "Iteration 184, loss = 0.38230288\n",
            "Iteration 185, loss = 0.37843357\n",
            "Training loss did not improve more than tol=0.000100 for 30 consecutive epochs. Stopping.\n"
          ]
        },
        {
          "data": {
            "text/html": [
              "<style>#sk-container-id-2 {\n",
              "  /* Definition of color scheme common for light and dark mode */\n",
              "  --sklearn-color-text: black;\n",
              "  --sklearn-color-line: gray;\n",
              "  /* Definition of color scheme for unfitted estimators */\n",
              "  --sklearn-color-unfitted-level-0: #fff5e6;\n",
              "  --sklearn-color-unfitted-level-1: #f6e4d2;\n",
              "  --sklearn-color-unfitted-level-2: #ffe0b3;\n",
              "  --sklearn-color-unfitted-level-3: chocolate;\n",
              "  /* Definition of color scheme for fitted estimators */\n",
              "  --sklearn-color-fitted-level-0: #f0f8ff;\n",
              "  --sklearn-color-fitted-level-1: #d4ebff;\n",
              "  --sklearn-color-fitted-level-2: #b3dbfd;\n",
              "  --sklearn-color-fitted-level-3: cornflowerblue;\n",
              "\n",
              "  /* Specific color for light theme */\n",
              "  --sklearn-color-text-on-default-background: var(--sg-text-color, var(--theme-code-foreground, var(--jp-content-font-color1, black)));\n",
              "  --sklearn-color-background: var(--sg-background-color, var(--theme-background, var(--jp-layout-color0, white)));\n",
              "  --sklearn-color-border-box: var(--sg-text-color, var(--theme-code-foreground, var(--jp-content-font-color1, black)));\n",
              "  --sklearn-color-icon: #696969;\n",
              "\n",
              "  @media (prefers-color-scheme: dark) {\n",
              "    /* Redefinition of color scheme for dark theme */\n",
              "    --sklearn-color-text-on-default-background: var(--sg-text-color, var(--theme-code-foreground, var(--jp-content-font-color1, white)));\n",
              "    --sklearn-color-background: var(--sg-background-color, var(--theme-background, var(--jp-layout-color0, #111)));\n",
              "    --sklearn-color-border-box: var(--sg-text-color, var(--theme-code-foreground, var(--jp-content-font-color1, white)));\n",
              "    --sklearn-color-icon: #878787;\n",
              "  }\n",
              "}\n",
              "\n",
              "#sk-container-id-2 {\n",
              "  color: var(--sklearn-color-text);\n",
              "}\n",
              "\n",
              "#sk-container-id-2 pre {\n",
              "  padding: 0;\n",
              "}\n",
              "\n",
              "#sk-container-id-2 input.sk-hidden--visually {\n",
              "  border: 0;\n",
              "  clip: rect(1px 1px 1px 1px);\n",
              "  clip: rect(1px, 1px, 1px, 1px);\n",
              "  height: 1px;\n",
              "  margin: -1px;\n",
              "  overflow: hidden;\n",
              "  padding: 0;\n",
              "  position: absolute;\n",
              "  width: 1px;\n",
              "}\n",
              "\n",
              "#sk-container-id-2 div.sk-dashed-wrapped {\n",
              "  border: 1px dashed var(--sklearn-color-line);\n",
              "  margin: 0 0.4em 0.5em 0.4em;\n",
              "  box-sizing: border-box;\n",
              "  padding-bottom: 0.4em;\n",
              "  background-color: var(--sklearn-color-background);\n",
              "}\n",
              "\n",
              "#sk-container-id-2 div.sk-container {\n",
              "  /* jupyter's `normalize.less` sets `[hidden] { display: none; }`\n",
              "     but bootstrap.min.css set `[hidden] { display: none !important; }`\n",
              "     so we also need the `!important` here to be able to override the\n",
              "     default hidden behavior on the sphinx rendered scikit-learn.org.\n",
              "     See: https://github.com/scikit-learn/scikit-learn/issues/21755 */\n",
              "  display: inline-block !important;\n",
              "  position: relative;\n",
              "}\n",
              "\n",
              "#sk-container-id-2 div.sk-text-repr-fallback {\n",
              "  display: none;\n",
              "}\n",
              "\n",
              "div.sk-parallel-item,\n",
              "div.sk-serial,\n",
              "div.sk-item {\n",
              "  /* draw centered vertical line to link estimators */\n",
              "  background-image: linear-gradient(var(--sklearn-color-text-on-default-background), var(--sklearn-color-text-on-default-background));\n",
              "  background-size: 2px 100%;\n",
              "  background-repeat: no-repeat;\n",
              "  background-position: center center;\n",
              "}\n",
              "\n",
              "/* Parallel-specific style estimator block */\n",
              "\n",
              "#sk-container-id-2 div.sk-parallel-item::after {\n",
              "  content: \"\";\n",
              "  width: 100%;\n",
              "  border-bottom: 2px solid var(--sklearn-color-text-on-default-background);\n",
              "  flex-grow: 1;\n",
              "}\n",
              "\n",
              "#sk-container-id-2 div.sk-parallel {\n",
              "  display: flex;\n",
              "  align-items: stretch;\n",
              "  justify-content: center;\n",
              "  background-color: var(--sklearn-color-background);\n",
              "  position: relative;\n",
              "}\n",
              "\n",
              "#sk-container-id-2 div.sk-parallel-item {\n",
              "  display: flex;\n",
              "  flex-direction: column;\n",
              "}\n",
              "\n",
              "#sk-container-id-2 div.sk-parallel-item:first-child::after {\n",
              "  align-self: flex-end;\n",
              "  width: 50%;\n",
              "}\n",
              "\n",
              "#sk-container-id-2 div.sk-parallel-item:last-child::after {\n",
              "  align-self: flex-start;\n",
              "  width: 50%;\n",
              "}\n",
              "\n",
              "#sk-container-id-2 div.sk-parallel-item:only-child::after {\n",
              "  width: 0;\n",
              "}\n",
              "\n",
              "/* Serial-specific style estimator block */\n",
              "\n",
              "#sk-container-id-2 div.sk-serial {\n",
              "  display: flex;\n",
              "  flex-direction: column;\n",
              "  align-items: center;\n",
              "  background-color: var(--sklearn-color-background);\n",
              "  padding-right: 1em;\n",
              "  padding-left: 1em;\n",
              "}\n",
              "\n",
              "\n",
              "/* Toggleable style: style used for estimator/Pipeline/ColumnTransformer box that is\n",
              "clickable and can be expanded/collapsed.\n",
              "- Pipeline and ColumnTransformer use this feature and define the default style\n",
              "- Estimators will overwrite some part of the style using the `sk-estimator` class\n",
              "*/\n",
              "\n",
              "/* Pipeline and ColumnTransformer style (default) */\n",
              "\n",
              "#sk-container-id-2 div.sk-toggleable {\n",
              "  /* Default theme specific background. It is overwritten whether we have a\n",
              "  specific estimator or a Pipeline/ColumnTransformer */\n",
              "  background-color: var(--sklearn-color-background);\n",
              "}\n",
              "\n",
              "/* Toggleable label */\n",
              "#sk-container-id-2 label.sk-toggleable__label {\n",
              "  cursor: pointer;\n",
              "  display: block;\n",
              "  width: 100%;\n",
              "  margin-bottom: 0;\n",
              "  padding: 0.5em;\n",
              "  box-sizing: border-box;\n",
              "  text-align: center;\n",
              "}\n",
              "\n",
              "#sk-container-id-2 label.sk-toggleable__label-arrow:before {\n",
              "  /* Arrow on the left of the label */\n",
              "  content: \"▸\";\n",
              "  float: left;\n",
              "  margin-right: 0.25em;\n",
              "  color: var(--sklearn-color-icon);\n",
              "}\n",
              "\n",
              "#sk-container-id-2 label.sk-toggleable__label-arrow:hover:before {\n",
              "  color: var(--sklearn-color-text);\n",
              "}\n",
              "\n",
              "/* Toggleable content - dropdown */\n",
              "\n",
              "#sk-container-id-2 div.sk-toggleable__content {\n",
              "  max-height: 0;\n",
              "  max-width: 0;\n",
              "  overflow: hidden;\n",
              "  text-align: left;\n",
              "  /* unfitted */\n",
              "  background-color: var(--sklearn-color-unfitted-level-0);\n",
              "}\n",
              "\n",
              "#sk-container-id-2 div.sk-toggleable__content.fitted {\n",
              "  /* fitted */\n",
              "  background-color: var(--sklearn-color-fitted-level-0);\n",
              "}\n",
              "\n",
              "#sk-container-id-2 div.sk-toggleable__content pre {\n",
              "  margin: 0.2em;\n",
              "  border-radius: 0.25em;\n",
              "  color: var(--sklearn-color-text);\n",
              "  /* unfitted */\n",
              "  background-color: var(--sklearn-color-unfitted-level-0);\n",
              "}\n",
              "\n",
              "#sk-container-id-2 div.sk-toggleable__content.fitted pre {\n",
              "  /* unfitted */\n",
              "  background-color: var(--sklearn-color-fitted-level-0);\n",
              "}\n",
              "\n",
              "#sk-container-id-2 input.sk-toggleable__control:checked~div.sk-toggleable__content {\n",
              "  /* Expand drop-down */\n",
              "  max-height: 200px;\n",
              "  max-width: 100%;\n",
              "  overflow: auto;\n",
              "}\n",
              "\n",
              "#sk-container-id-2 input.sk-toggleable__control:checked~label.sk-toggleable__label-arrow:before {\n",
              "  content: \"▾\";\n",
              "}\n",
              "\n",
              "/* Pipeline/ColumnTransformer-specific style */\n",
              "\n",
              "#sk-container-id-2 div.sk-label input.sk-toggleable__control:checked~label.sk-toggleable__label {\n",
              "  color: var(--sklearn-color-text);\n",
              "  background-color: var(--sklearn-color-unfitted-level-2);\n",
              "}\n",
              "\n",
              "#sk-container-id-2 div.sk-label.fitted input.sk-toggleable__control:checked~label.sk-toggleable__label {\n",
              "  background-color: var(--sklearn-color-fitted-level-2);\n",
              "}\n",
              "\n",
              "/* Estimator-specific style */\n",
              "\n",
              "/* Colorize estimator box */\n",
              "#sk-container-id-2 div.sk-estimator input.sk-toggleable__control:checked~label.sk-toggleable__label {\n",
              "  /* unfitted */\n",
              "  background-color: var(--sklearn-color-unfitted-level-2);\n",
              "}\n",
              "\n",
              "#sk-container-id-2 div.sk-estimator.fitted input.sk-toggleable__control:checked~label.sk-toggleable__label {\n",
              "  /* fitted */\n",
              "  background-color: var(--sklearn-color-fitted-level-2);\n",
              "}\n",
              "\n",
              "#sk-container-id-2 div.sk-label label.sk-toggleable__label,\n",
              "#sk-container-id-2 div.sk-label label {\n",
              "  /* The background is the default theme color */\n",
              "  color: var(--sklearn-color-text-on-default-background);\n",
              "}\n",
              "\n",
              "/* On hover, darken the color of the background */\n",
              "#sk-container-id-2 div.sk-label:hover label.sk-toggleable__label {\n",
              "  color: var(--sklearn-color-text);\n",
              "  background-color: var(--sklearn-color-unfitted-level-2);\n",
              "}\n",
              "\n",
              "/* Label box, darken color on hover, fitted */\n",
              "#sk-container-id-2 div.sk-label.fitted:hover label.sk-toggleable__label.fitted {\n",
              "  color: var(--sklearn-color-text);\n",
              "  background-color: var(--sklearn-color-fitted-level-2);\n",
              "}\n",
              "\n",
              "/* Estimator label */\n",
              "\n",
              "#sk-container-id-2 div.sk-label label {\n",
              "  font-family: monospace;\n",
              "  font-weight: bold;\n",
              "  display: inline-block;\n",
              "  line-height: 1.2em;\n",
              "}\n",
              "\n",
              "#sk-container-id-2 div.sk-label-container {\n",
              "  text-align: center;\n",
              "}\n",
              "\n",
              "/* Estimator-specific */\n",
              "#sk-container-id-2 div.sk-estimator {\n",
              "  font-family: monospace;\n",
              "  border: 1px dotted var(--sklearn-color-border-box);\n",
              "  border-radius: 0.25em;\n",
              "  box-sizing: border-box;\n",
              "  margin-bottom: 0.5em;\n",
              "  /* unfitted */\n",
              "  background-color: var(--sklearn-color-unfitted-level-0);\n",
              "}\n",
              "\n",
              "#sk-container-id-2 div.sk-estimator.fitted {\n",
              "  /* fitted */\n",
              "  background-color: var(--sklearn-color-fitted-level-0);\n",
              "}\n",
              "\n",
              "/* on hover */\n",
              "#sk-container-id-2 div.sk-estimator:hover {\n",
              "  /* unfitted */\n",
              "  background-color: var(--sklearn-color-unfitted-level-2);\n",
              "}\n",
              "\n",
              "#sk-container-id-2 div.sk-estimator.fitted:hover {\n",
              "  /* fitted */\n",
              "  background-color: var(--sklearn-color-fitted-level-2);\n",
              "}\n",
              "\n",
              "/* Specification for estimator info (e.g. \"i\" and \"?\") */\n",
              "\n",
              "/* Common style for \"i\" and \"?\" */\n",
              "\n",
              ".sk-estimator-doc-link,\n",
              "a:link.sk-estimator-doc-link,\n",
              "a:visited.sk-estimator-doc-link {\n",
              "  float: right;\n",
              "  font-size: smaller;\n",
              "  line-height: 1em;\n",
              "  font-family: monospace;\n",
              "  background-color: var(--sklearn-color-background);\n",
              "  border-radius: 1em;\n",
              "  height: 1em;\n",
              "  width: 1em;\n",
              "  text-decoration: none !important;\n",
              "  margin-left: 1ex;\n",
              "  /* unfitted */\n",
              "  border: var(--sklearn-color-unfitted-level-1) 1pt solid;\n",
              "  color: var(--sklearn-color-unfitted-level-1);\n",
              "}\n",
              "\n",
              ".sk-estimator-doc-link.fitted,\n",
              "a:link.sk-estimator-doc-link.fitted,\n",
              "a:visited.sk-estimator-doc-link.fitted {\n",
              "  /* fitted */\n",
              "  border: var(--sklearn-color-fitted-level-1) 1pt solid;\n",
              "  color: var(--sklearn-color-fitted-level-1);\n",
              "}\n",
              "\n",
              "/* On hover */\n",
              "div.sk-estimator:hover .sk-estimator-doc-link:hover,\n",
              ".sk-estimator-doc-link:hover,\n",
              "div.sk-label-container:hover .sk-estimator-doc-link:hover,\n",
              ".sk-estimator-doc-link:hover {\n",
              "  /* unfitted */\n",
              "  background-color: var(--sklearn-color-unfitted-level-3);\n",
              "  color: var(--sklearn-color-background);\n",
              "  text-decoration: none;\n",
              "}\n",
              "\n",
              "div.sk-estimator.fitted:hover .sk-estimator-doc-link.fitted:hover,\n",
              ".sk-estimator-doc-link.fitted:hover,\n",
              "div.sk-label-container:hover .sk-estimator-doc-link.fitted:hover,\n",
              ".sk-estimator-doc-link.fitted:hover {\n",
              "  /* fitted */\n",
              "  background-color: var(--sklearn-color-fitted-level-3);\n",
              "  color: var(--sklearn-color-background);\n",
              "  text-decoration: none;\n",
              "}\n",
              "\n",
              "/* Span, style for the box shown on hovering the info icon */\n",
              ".sk-estimator-doc-link span {\n",
              "  display: none;\n",
              "  z-index: 9999;\n",
              "  position: relative;\n",
              "  font-weight: normal;\n",
              "  right: .2ex;\n",
              "  padding: .5ex;\n",
              "  margin: .5ex;\n",
              "  width: min-content;\n",
              "  min-width: 20ex;\n",
              "  max-width: 50ex;\n",
              "  color: var(--sklearn-color-text);\n",
              "  box-shadow: 2pt 2pt 4pt #999;\n",
              "  /* unfitted */\n",
              "  background: var(--sklearn-color-unfitted-level-0);\n",
              "  border: .5pt solid var(--sklearn-color-unfitted-level-3);\n",
              "}\n",
              "\n",
              ".sk-estimator-doc-link.fitted span {\n",
              "  /* fitted */\n",
              "  background: var(--sklearn-color-fitted-level-0);\n",
              "  border: var(--sklearn-color-fitted-level-3);\n",
              "}\n",
              "\n",
              ".sk-estimator-doc-link:hover span {\n",
              "  display: block;\n",
              "}\n",
              "\n",
              "/* \"?\"-specific style due to the `<a>` HTML tag */\n",
              "\n",
              "#sk-container-id-2 a.estimator_doc_link {\n",
              "  float: right;\n",
              "  font-size: 1rem;\n",
              "  line-height: 1em;\n",
              "  font-family: monospace;\n",
              "  background-color: var(--sklearn-color-background);\n",
              "  border-radius: 1rem;\n",
              "  height: 1rem;\n",
              "  width: 1rem;\n",
              "  text-decoration: none;\n",
              "  /* unfitted */\n",
              "  color: var(--sklearn-color-unfitted-level-1);\n",
              "  border: var(--sklearn-color-unfitted-level-1) 1pt solid;\n",
              "}\n",
              "\n",
              "#sk-container-id-2 a.estimator_doc_link.fitted {\n",
              "  /* fitted */\n",
              "  border: var(--sklearn-color-fitted-level-1) 1pt solid;\n",
              "  color: var(--sklearn-color-fitted-level-1);\n",
              "}\n",
              "\n",
              "/* On hover */\n",
              "#sk-container-id-2 a.estimator_doc_link:hover {\n",
              "  /* unfitted */\n",
              "  background-color: var(--sklearn-color-unfitted-level-3);\n",
              "  color: var(--sklearn-color-background);\n",
              "  text-decoration: none;\n",
              "}\n",
              "\n",
              "#sk-container-id-2 a.estimator_doc_link.fitted:hover {\n",
              "  /* fitted */\n",
              "  background-color: var(--sklearn-color-fitted-level-3);\n",
              "}\n",
              "</style><div id=\"sk-container-id-2\" class=\"sk-top-container\"><div class=\"sk-text-repr-fallback\"><pre>MLPClassifier(activation=&#x27;tanh&#x27;, hidden_layer_sizes=(100, 50, 30, 20),\n",
              "              learning_rate_init=0.01, max_iter=190, n_iter_no_change=30,\n",
              "              random_state=42, verbose=True)</pre><b>In a Jupyter environment, please rerun this cell to show the HTML representation or trust the notebook. <br />On GitHub, the HTML representation is unable to render, please try loading this page with nbviewer.org.</b></div><div class=\"sk-container\" hidden><div class=\"sk-item\"><div class=\"sk-estimator fitted sk-toggleable\"><input class=\"sk-toggleable__control sk-hidden--visually\" id=\"sk-estimator-id-2\" type=\"checkbox\" checked><label for=\"sk-estimator-id-2\" class=\"sk-toggleable__label fitted sk-toggleable__label-arrow fitted\">&nbsp;&nbsp;MLPClassifier<a class=\"sk-estimator-doc-link fitted\" rel=\"noreferrer\" target=\"_blank\" href=\"https://scikit-learn.org/1.4/modules/generated/sklearn.neural_network.MLPClassifier.html\">?<span>Documentation for MLPClassifier</span></a><span class=\"sk-estimator-doc-link fitted\">i<span>Fitted</span></span></label><div class=\"sk-toggleable__content fitted\"><pre>MLPClassifier(activation=&#x27;tanh&#x27;, hidden_layer_sizes=(100, 50, 30, 20),\n",
              "              learning_rate_init=0.01, max_iter=190, n_iter_no_change=30,\n",
              "              random_state=42, verbose=True)</pre></div> </div></div></div></div>"
            ],
            "text/plain": [
              "MLPClassifier(activation='tanh', hidden_layer_sizes=(100, 50, 30, 20),\n",
              "              learning_rate_init=0.01, max_iter=190, n_iter_no_change=30,\n",
              "              random_state=42, verbose=True)"
            ]
          },
          "execution_count": 31,
          "metadata": {},
          "output_type": "execute_result"
        }
      ],
      "source": [
        "mlp.fit(X_train, y_train)"
      ]
    },
    {
      "cell_type": "code",
      "execution_count": 32,
      "metadata": {
        "colab": {
          "base_uri": "https://localhost:8080/"
        },
        "id": "mlbgWfgYfpnB",
        "outputId": "ba31374c-24ea-49dc-8ca9-171ffeb72daa"
      },
      "outputs": [
        {
          "data": {
            "text/plain": [
              "0.65"
            ]
          },
          "execution_count": 32,
          "metadata": {},
          "output_type": "execute_result"
        }
      ],
      "source": [
        "Y_pred = mlp.predict(X_test)\n",
        "# Calculate the accuracy score by comparing the true labels (y_test) with the predicted labels (Y_pred)\n",
        "from sklearn.metrics import accuracy_score\n",
        "accuracy_score(y_test, Y_pred)"
      ]
    },
    {
      "cell_type": "code",
      "execution_count": 33,
      "metadata": {
        "colab": {
          "base_uri": "https://localhost:8080/",
          "height": 455
        },
        "id": "AILtDcxRf4H4",
        "outputId": "5143b477-f718-4bbe-8123-763be5f604b8"
      },
      "outputs": [
        {
          "data": {
            "image/png": "[encoded data removed]",
            "text/plain": [
              "<Figure size 640x480 with 2 Axes>"
            ]
          },
          "metadata": {},
          "output_type": "display_data"
        }
      ],
      "source": [
        "# Confusion matrix\n",
        "import matplotlib.pyplot as plt\n",
        "from sklearn.metrics import confusion_matrix, ConfusionMatrixDisplay\n",
        "\n",
        "cm = confusion_matrix(y_test, Y_pred, labels=mlp.classes_)\n",
        "disp = ConfusionMatrixDisplay(confusion_matrix=cm, display_labels=mlp.classes_)\n",
        "disp.plot()\n",
        "plt.show()"
      ]
    }
  ],
  "metadata": {
    "colab": {
      "provenance": []
    },
    "kernelspec": {
      "display_name": "Python 3",
      "name": "python3"
    },
    "language_info": {
      "codemirror_mode": {
        "name": "ipython",
        "version": 3
      },
      "file_extension": ".py",
      "mimetype": "text/x-python",
      "name": "python",
      "nbconvert_exporter": "python",
      "pygments_lexer": "ipython3",
      "version": "3.12.0"
    }
  },
  "nbformat": 4,
  "nbformat_minor": 0
}
