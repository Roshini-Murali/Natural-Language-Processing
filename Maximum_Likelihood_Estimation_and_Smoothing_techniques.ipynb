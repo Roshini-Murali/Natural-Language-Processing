{
 "cells": [
  {
   "cell_type": "code",
   "execution_count": 2,
   "id": "8dbe8ed7-ad6b-4e55-9610-3a6fe6323811",
   "metadata": {},
   "outputs": [
    {
     "name": "stdout",
     "output_type": "stream",
     "text": [
      "Maximum Likelihood Estimation\n",
      "The sentences are...\n",
      "['+ I am Sam -', '+ Sam I am -', '+ I do not like green eggs -']\n",
      "[['+', 'I', 'am', 'Sam', '-'], ['+', 'Sam', 'I', 'am', '-'], ['+', 'I', 'do', 'not', 'like', 'green', 'eggs', '-']]\n"
     ]
    }
   ],
   "source": [
    "print(\"Maximum Likelihood Estimation\")\n",
    "n=int(input(\"Enter number of sentences\"))\n",
    "l=[]\n",
    "lst=[]\n",
    "for i in range(n):\n",
    "    s=input()\n",
    "    lst.append(s)\n",
    "    l.append(s.split())\n",
    "print(\"The sentences are...\")\n",
    "print(lst)\n",
    "#After tokenizing the words...\n",
    "print(l)"
   ]
  },
  {
   "cell_type": "code",
   "execution_count": 3,
   "id": "b01124ef-5ed0-44ae-a556-ffe59b0419f4",
   "metadata": {},
   "outputs": [
    {
     "name": "stdout",
     "output_type": "stream",
     "text": [
      "Unique elements are... \n",
      " ['green', 'I', 'eggs', '+', 'not', 'Sam', 'do', '-', 'like', 'am']\n"
     ]
    }
   ],
   "source": [
    "#finding unique elements from the sentences\n",
    "unique_elements={x for i in l for x in i}\n",
    "l2=list(unique_elements)\n",
    "print(\"Unique elements are... \\n\",l2)"
   ]
  },
  {
   "cell_type": "code",
   "execution_count": 4,
   "id": "d356d467-f251-455d-a114-f3a2c1cb2d5d",
   "metadata": {},
   "outputs": [
    {
     "name": "stdout",
     "output_type": "stream",
     "text": [
      "The count of elements list...\n",
      " [1, 3, 1, 3, 1, 2, 1, 3, 1, 2]\n"
     ]
    }
   ],
   "source": [
    "#finding the count of unique elements from the list of sentences (List l)\n",
    "cnt_list=[]\n",
    "for i in unique_elements:\n",
    "    cnt=0\n",
    "    for x in l:\n",
    "        if i in x:\n",
    "            cnt+=1\n",
    "    cnt_list.append(cnt)\n",
    "print(\"The count of elements list...\\n\",cnt_list)"
   ]
  },
  {
   "cell_type": "code",
   "execution_count": 5,
   "id": "8c93fb0e-8a2e-40c5-a3f2-3231738df127",
   "metadata": {},
   "outputs": [
    {
     "name": "stdout",
     "output_type": "stream",
     "text": [
      "Enter the sentence to find probability\n",
      "['+', 'I', 'am', 'Sam', 'green', '-']\n"
     ]
    }
   ],
   "source": [
    "print(\"Enter the sentence to find probability\")\n",
    "sent=input()\n",
    "#Tokenizing the input sentence\n",
    "input_str=list(sent.split())\n",
    "print(input_str)"
   ]
  },
  {
   "cell_type": "code",
   "execution_count": 6,
   "id": "18bdad7c-508a-4333-a540-5f0e025f1c7d",
   "metadata": {},
   "outputs": [
    {
     "name": "stdout",
     "output_type": "stream",
     "text": [
      "['+ I', 'I am', 'am Sam', 'Sam green', 'green -']\n"
     ]
    }
   ],
   "source": [
    "#finding the bigrams of the input sentence\n",
    "words = sent.split()\n",
    "bigram_list=list(map(' '.join, zip(words[:-1], words[1:])))\n",
    "print(bigram_list)"
   ]
  },
  {
   "cell_type": "code",
   "execution_count": 7,
   "id": "5579a310-233e-44b9-8195-7bbf3412b1a8",
   "metadata": {},
   "outputs": [
    {
     "name": "stdout",
     "output_type": "stream",
     "text": [
      "The number of times bigrams are found in the sentences\n",
      "[2, 2, 1, 0, 0]\n"
     ]
    }
   ],
   "source": [
    "#Finding the count of bigrams from the list of sentences (list lst)\n",
    "b_cnt_list=[]\n",
    "for i in bigram_list:\n",
    "    cnt=0\n",
    "    for j in lst:\n",
    "        if i in j:\n",
    "            cnt+=1\n",
    "    b_cnt_list.append(cnt)\n",
    "print(\"The number of times bigrams are found in the sentences\")\n",
    "print(b_cnt_list)"
   ]
  },
  {
   "cell_type": "code",
   "execution_count": 8,
   "id": "81e81893-0b77-473c-9b8b-be1c2c7d2261",
   "metadata": {},
   "outputs": [
    {
     "name": "stdout",
     "output_type": "stream",
     "text": [
      "The position where '+ I am Sam green -' found is...\n",
      "[3, 1, 9, 5, 0, 7]\n",
      "The elements list... \n",
      " ['green', 'I', 'eggs', '+', 'not', 'Sam', 'do', '-', 'like', 'am']\n",
      "The count of elements list...\n",
      " [1, 3, 1, 3, 1, 2, 1, 3, 1, 2]\n",
      "The probability of the sentence is  0.0\n"
     ]
    }
   ],
   "source": [
    "#calculating the position of each tokens of input sentence to find their respective counts from list (cnt_list) by using the position list (lst1)\n",
    "result=1\n",
    "lst1=[]\n",
    "for i in input_str:\n",
    "    cnt1=0\n",
    "    for j in unique_elements:\n",
    "        if i==j:\n",
    "            lst1.append(cnt1)\n",
    "        cnt1+=1\n",
    "print(\"The position where '+ I am Sam green -' found is...\")\n",
    "print(lst1)\n",
    "print(\"The elements list... \\n\",l2)\n",
    "print(\"The count of elements list...\\n\",cnt_list)\n",
    "k=0\n",
    "for i in range(len(input_str)-1):\n",
    "    result*=((b_cnt_list[k])/(cnt_list[lst1[k]]))\n",
    "    k+=1\n",
    "print(\"The probability of the sentence is \",result)"
   ]
  },
  {
   "cell_type": "code",
   "execution_count": 9,
   "id": "986c7ed4-c8ce-44fc-a847-8160dc5cd251",
   "metadata": {},
   "outputs": [
    {
     "name": "stdout",
     "output_type": "stream",
     "text": [
      "This is an unseen sentence\n"
     ]
    }
   ],
   "source": [
    "if(result==0):\n",
    "    print(\"This is an unseen sentence\")\n",
    "else:\n",
    "    print(\"This sentence is seen with the probability of \",result)"
   ]
  },
  {
   "cell_type": "code",
   "execution_count": 10,
   "id": "cdaddd80-d534-424b-81c6-30acc716f94c",
   "metadata": {},
   "outputs": [
    {
     "name": "stdout",
     "output_type": "stream",
     "text": [
      "Smoothing techniques\n",
      "Add-one smoothing (Laplace's law...)\n",
      "The probability of ' + I am Sam green - ' is 6.724045185583647e-05\n"
     ]
    }
   ],
   "source": [
    "#implementing smoothing techniques\n",
    "print(\"Smoothing techniques\")\n",
    "print(\"Add-one smoothing (Laplace's law...)\")\n",
    "v=len(unique_elements)\n",
    "k=0\n",
    "result=1\n",
    "for i in range(len(input_str)-1):\n",
    "#formula... p(w1 w2...wn)=((c(w1 w2...wn)+1)/(N+V))\n",
    "    result*=((b_cnt_list[k]+1)/(cnt_list[lst1[k]]+v))\n",
    "    k+=1\n",
    "print(\"The probability of '\",sent,\"' is\",result)"
   ]
  },
  {
   "cell_type": "code",
   "execution_count": 11,
   "id": "56fb1d24-3100-4b40-955f-5e9bbca44067",
   "metadata": {},
   "outputs": [
    {
     "name": "stdout",
     "output_type": "stream",
     "text": [
      "Add-delta smoothing (Lidstone's law...)\n",
      "The probability of ' + I am Sam green - ' is 0.00012456154336734691\n"
     ]
    }
   ],
   "source": [
    "#Add-delta smoothing technique \n",
    "lambdaa=0.5\n",
    "print(\"Add-delta smoothing (Lidstone's law...)\")\n",
    "k=0\n",
    "result=1\n",
    "for i in range(len(input_str)-1):\n",
    "#formula... p(w1 w2...wn)=((c(w1 w2...wn)+lambda)/(N+(V*lambda)))\n",
    "    result*=((b_cnt_list[k]+lambdaa)/(cnt_list[lst1[k]]+(lambdaa*v)))\n",
    "    k+=1\n",
    "print(\"The probability of '\",sent,\"' is\",result)"
   ]
  },
  {
   "cell_type": "code",
   "execution_count": 12,
   "id": "c9bf4ddd-52a2-4b02-90ca-bf6f6947fd67",
   "metadata": {},
   "outputs": [
    {
     "name": "stdout",
     "output_type": "stream",
     "text": [
      "Jeffrey's law...\n",
      "The probability of ' + I am Sam green - ' is 0.00012456154336734694\n"
     ]
    }
   ],
   "source": [
    "print(\"Jeffrey's law...\")\n",
    "#calculating Mu value... stored in list (lst2)\n",
    "lst2=[]\n",
    "k=0\n",
    "for i in range(len(input_str)-1):\n",
    "#formula... mu=(N/(N+(V*lambda)))\n",
    "    lst2.append(cnt_list[lst1[k]]/(cnt_list[lst1[k]]+(v*lambdaa)))\n",
    "    k+=1\n",
    "k1=0\n",
    "v=len(unique_elements)\n",
    "result1=1\n",
    "for i in range(len(input_str)-1):\n",
    "#formula... p(w1 w2...wn)=((mu*c(w1 w2...wn)/N)+((1-mu)/V))\n",
    "    result1=result1*(((b_cnt_list[k1]*lst2[k1])/(cnt_list[lst1[k1]]))+((1-lst2[k1])/v))\n",
    "    k1+=1\n",
    "print(\"The probability of '\",sent,\"' is\",result1)"
   ]
  },
  {
   "cell_type": "code",
   "execution_count": null,
   "id": "75285645-696e-45de-ad6e-3d592121e9f6",
   "metadata": {},
   "outputs": [],
   "source": []
  }
 ],
 "metadata": {
  "kernelspec": {
   "display_name": "Python 3 (ipykernel)",
   "language": "python",
   "name": "python3"
  },
  "language_info": {
   "codemirror_mode": {
    "name": "ipython",
    "version": 3
   },
   "file_extension": ".py",
   "mimetype": "text/x-python",
   "name": "python",
   "nbconvert_exporter": "python",
   "pygments_lexer": "ipython3",
   "version": "3.12.0"
  }
 },
 "nbformat": 4,
 "nbformat_minor": 5
}
