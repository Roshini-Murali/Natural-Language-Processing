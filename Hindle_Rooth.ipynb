{
 "cells": [
  {
   "cell_type": "code",
   "execution_count": 2,
   "metadata": {},
   "outputs": [
    {
     "name": "stdout",
     "output_type": "stream",
     "text": [
      "['In', 'the', 'park', ',', 'the', 'squirrel', 'leaped', 'onto', 'the', 'branch', '.', 'Behind', 'the', 'trees', ',', 'the', 'cat', 'waited', 'beside', 'the', 'mailbox', '.', 'At', 'the', 'corner', 'of', 'the', 'street', ',', 'the', 'ducks', 'swam', 'towards', 'the', 'shore', '.', 'Beyond', 'the', 'lamppost', ',', 'the', 'kite', 'soared', 'above', 'the', 'hill', '.']\n",
      "[('In', 'IN'), ('the', 'DT'), ('park', 'NN'), (',', ','), ('the', 'DT'), ('squirrel', 'NN'), ('leaped', 'VBD'), ('onto', 'IN'), ('the', 'DT'), ('branch', 'NN'), ('.', '.'), ('Behind', 'IN'), ('the', 'DT'), ('trees', 'NNS'), (',', ','), ('the', 'DT'), ('cat', 'NN'), ('waited', 'VBD'), ('beside', 'IN'), ('the', 'DT'), ('mailbox', 'NN'), ('.', '.'), ('At', 'IN'), ('the', 'DT'), ('corner', 'NN'), ('of', 'IN'), ('the', 'DT'), ('street', 'NN'), (',', ','), ('the', 'DT'), ('ducks', 'NNS'), ('swam', 'VBP'), ('towards', 'IN'), ('the', 'DT'), ('shore', 'NN'), ('.', '.'), ('Beyond', 'IN'), ('the', 'DT'), ('lamppost', 'NN'), (',', ','), ('the', 'DT'), ('kite', 'NN'), ('soared', 'VBD'), ('above', 'IN'), ('the', 'DT'), ('hill', 'NN'), ('.', '.')]\n",
      "Number of verbs: 4\n",
      "Number of nouns: 13\n",
      "Number of verb-preposition pairs: 4\n",
      "Number of noun-preposition pairs: 1\n",
      "Lambda value: 29.411764705882355\n",
      "Result: Preposition attached with Verb\n"
     ]
    }
   ],
   "source": [
    "import nltk\n",
    "from nltk import pos_tag, word_tokenize\n",
    "from collections import Counter\n",
    "import math\n",
    "\n",
    "def hindle_rooth_analysis(paragraph):\n",
    "\n",
    "    # Tokenize the paragraph into words and tag each word with its part of speech\n",
    "    words = word_tokenize(paragraph)\n",
    "    print(words)\n",
    "    tagged_words = pos_tag(words)\n",
    "    print(tagged_words)\n",
    "\n",
    "    # counters for verb, noun, verb-preposition and noun-preposition pairs\n",
    "    verb_count = 0\n",
    "    noun_count = 0\n",
    "    verb_preposition_count = 0\n",
    "    noun_preposition_count = 0\n",
    "\n",
    "    for i in range(len(tagged_words)):\n",
    "\n",
    "        word, tag = tagged_words[i]\n",
    "\n",
    "        if tag.startswith('V'):\n",
    "            verb_count += 1\n",
    "        elif tag.startswith('N'):\n",
    "            noun_count += 1\n",
    "\n",
    "        # Check for prepositions ('IN')\n",
    "        if tag == 'IN':  \n",
    "            if i > 0: \n",
    "                prev_word, prev_tag = tagged_words[i-1]\n",
    "                if prev_tag.startswith('V'):\n",
    "                    verb_preposition_count += 1\n",
    "                elif prev_tag.startswith('N'):\n",
    "                    noun_preposition_count += 1\n",
    "    \n",
    "    total_pairs = verb_preposition_count + noun_preposition_count\n",
    "    lambda_value = (total_pairs / (verb_count + noun_count)) * 100\n",
    "    \n",
    "    return {\n",
    "        'verb_count': verb_count,\n",
    "        'noun_count': noun_count,\n",
    "        'verb_preposition_count': verb_preposition_count,\n",
    "        'noun_preposition_count': noun_preposition_count,\n",
    "        'lambda_value': lambda_value\n",
    "    }\n",
    "\n",
    "def determine_result(verb_preposition_count, noun_preposition_count, verb_count, noun_count):\n",
    "    \n",
    "    v_a = verb_preposition_count / verb_count # probability of preposition attaching to the verb \n",
    "    n_a = noun_preposition_count / noun_count # probability of preposition attaching to the noun\n",
    "    n_na = 1 - n_a \n",
    "    res = (v_a * n_na) / n_a\n",
    "    res = math.log2(res)\n",
    "    if res > 0:\n",
    "        print(\"Result: Preposition attached with Verb\")\n",
    "    else:\n",
    "        print(\"Result: Preposition attached with Noun\")\n",
    "\n",
    "paragraph = \"In the park, the squirrel leaped onto the branch. Behind the trees, the cat waited beside the mailbox. At the corner of the street, the ducks swam towards the shore. Beyond the lamppost, the kite soared above the hill.\"\n",
    "result = hindle_rooth_analysis(paragraph)\n",
    "\n",
    "print(\"Number of verbs:\", result['verb_count'])\n",
    "print(\"Number of nouns:\", result['noun_count'])\n",
    "print(\"Number of verb-preposition pairs:\", result['verb_preposition_count'])\n",
    "print(\"Number of noun-preposition pairs:\", result['noun_preposition_count'])\n",
    "print(\"Lambda value:\", result['lambda_value'])\n",
    "\n",
    "determine_result(result['verb_preposition_count'], result['noun_preposition_count'], result['verb_count'], result['noun_count'])\n"
   ]
  }
 ],
 "metadata": {
  "kernelspec": {
   "display_name": "Python 3",
   "language": "python",
   "name": "python3"
  },
  "language_info": {
   "codemirror_mode": {
    "name": "ipython",
    "version": 3
   },
   "file_extension": ".py",
   "mimetype": "text/x-python",
   "name": "python",
   "nbconvert_exporter": "python",
   "pygments_lexer": "ipython3",
   "version": "3.12.0"
  }
 },
 "nbformat": 4,
 "nbformat_minor": 2
}
