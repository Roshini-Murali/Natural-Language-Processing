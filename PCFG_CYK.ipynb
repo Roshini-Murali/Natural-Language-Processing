{
 "cells": [
  {
   "cell_type": "code",
   "execution_count": 2,
   "metadata": {},
   "outputs": [
    {
     "name": "stdout",
     "output_type": "stream",
     "text": [
      "[[{}, {'NP': 0.1}, {}, {}, {}, {}], [{}, {}, {'V': 1.0, 'NP': 0.04}, {}, {}, {}], [{}, {}, {}, {'NP': 0.18}, {}, {}], [{}, {}, {}, {}, {'P': 1.0}, {}], [{}, {}, {}, {}, {}, {'NP': 0.18}]]\n",
      "[{}, {'NP': 0.1}, {}, {'S': 0.0126}, {}, {'S': 0.00159}]\n",
      "[{}, {}, {'V': 1.0, 'NP': 0.04}, {'VP': 0.126}, {}, {'VP': 0.01587}]\n",
      "[{}, {}, {}, {'NP': 0.18}, {}, {'NP': 0.01296}]\n",
      "[{}, {}, {}, {}, {'P': 1.0}, {'PP': 0.18}]\n",
      "[{}, {}, {}, {}, {}, {'NP': 0.18}]\n",
      "probability of query: 0.00159\n"
     ]
    }
   ],
   "source": [
    "rules = []\n",
    "n = int(input('Enter Number of Rules:'))\n",
    "\n",
    "for i in range(n):\n",
    "    r = []\n",
    "    r.append(input('Key:')) \n",
    "    r.append(input('Value:')) \n",
    "    r.append(float(input('Probability:')))  \n",
    "    rules.append(r)  \n",
    "\n",
    "query = ['astronomers', 'saw', 'stars', 'with', 'ears']\n",
    "n = len(query)\n",
    "\n",
    "# Create a table with default empty dictionaries for each cell\n",
    "table = [[{} for _ in range(n + 1)] for _ in range(n)]\n",
    "\n",
    "# Fill the diagonal of the table based on the rules and query words\n",
    "for i in range(n):\n",
    "    for l in rules:\n",
    "        if l[1] == query[i]:  \n",
    "            if l[0] not in table[i][i + 1]:  \n",
    "                table[i][i + 1][l[0]] = l[2]\n",
    "            else:  \n",
    "                table[i][i + 1][l[0]] += l[2]\n",
    "\n",
    "# CYK algorithm implementation\n",
    "t = 2\n",
    "for i in range(n - 1): \n",
    "    j = t\n",
    "    for k in range(n - j + 1): \n",
    "        for l in range(k + 1, j):  \n",
    "            if table[k][l] != {} and table[l][j] != {}: \n",
    "                for k1 in table[k][l]:  \n",
    "                    for k2 in table[l][j]: \n",
    "                        for r in rules:\n",
    "                            if k1 + ' ' + k2 in r:  # Check if the concatenation of keys matches a rule\n",
    "                                if r[0] not in table[k][j]: \n",
    "                                    table[k][j][r[0]] = round(r[2] * table[k][l][k1] * table[l][j][k2], 5)\n",
    "                                else: \n",
    "                                    table[k][j][r[0]] += r[2] * table[k][l][k1] * table[l][j][k2]\n",
    "                                    table[k][j][r[0]] = round(table[k][j][r[0]], 5)\n",
    "        j += 1\n",
    "    t += 1\n",
    "\n",
    "for i in range(n):\n",
    "    print(table[i])\n",
    "\n",
    "print('probability of query:', table[0][n]['S'])\n"
   ]
  }
 ],
 "metadata": {
  "kernelspec": {
   "display_name": "Python 3",
   "language": "python",
   "name": "python3"
  },
  "language_info": {
   "codemirror_mode": {
    "name": "ipython",
    "version": 3
   },
   "file_extension": ".py",
   "mimetype": "text/x-python",
   "name": "python",
   "nbconvert_exporter": "python",
   "pygments_lexer": "ipython3",
   "version": "3.12.0"
  }
 },
 "nbformat": 4,
 "nbformat_minor": 2
}
