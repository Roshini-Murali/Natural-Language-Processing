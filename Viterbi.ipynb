{
 "cells": [
  {
   "cell_type": "code",
   "execution_count": 1,
   "metadata": {},
   "outputs": [],
   "source": [
    "import numpy as np"
   ]
  },
  {
   "cell_type": "code",
   "execution_count": 2,
   "metadata": {},
   "outputs": [
    {
     "name": "stdout",
     "output_type": "stream",
     "text": [
      "Number of hidden states : 2\n",
      "Number of observations  : 3\n"
     ]
    }
   ],
   "source": [
    "# Define the state space\n",
    "states = [\"cola preference\", \"ice tea preference\"]\n",
    "n_states = len(states)\n",
    "print('Number of hidden states :',n_states)\n",
    "# Define the observation space\n",
    "observations = [\"cola\", \"ice tea\",\"lemonade\"]\n",
    "n_observations = len(observations)\n",
    "print('Number of observations  :',n_observations)"
   ]
  },
  {
   "cell_type": "code",
   "execution_count": 3,
   "metadata": {},
   "outputs": [
    {
     "name": "stdout",
     "output_type": "stream",
     "text": [
      "State probability:  [1, 0]\n",
      "\n",
      "Transition probability:\n",
      " [[0.7 0.3]\n",
      " [0.5 0.5]]\n",
      "\n",
      "Emission probability:\n",
      " [[0.6 0.1 0.3]\n",
      " [0.1 0.7 0.2]]\n"
     ]
    }
   ],
   "source": [
    "# Initial state distribution (pi values of state)\n",
    "state_probability = [1, 0]\n",
    "print(\"State probability: \", state_probability)\n",
    "# State transition probabilities between hidden states\n",
    "transition_probability = np.array([[0.7, 0.3],\n",
    "                                   [0.5, 0.5]])\n",
    "print(\"\\nTransition probability:\\n\", transition_probability)\n",
    "# Emission probability of observations\n",
    "emission_probability= np.array([[0.6, 0.1,0.3],\n",
    "                                 [0.1, 0.7,0.2]])\n",
    "print(\"\\nEmission probability:\\n\", emission_probability)"
   ]
  },
  {
   "cell_type": "code",
   "execution_count": 4,
   "metadata": {},
   "outputs": [
    {
     "name": "stdout",
     "output_type": "stream",
     "text": [
      "[2, 1, 0]\n"
     ]
    }
   ],
   "source": [
    "# output sequence\n",
    "cola=0\n",
    "ice=1\n",
    "lem=2\n",
    "op_seq=[lem,ice,cola]\n",
    "print(op_seq)"
   ]
  },
  {
   "cell_type": "code",
   "execution_count": 5,
   "metadata": {},
   "outputs": [
    {
     "name": "stdout",
     "output_type": "stream",
     "text": [
      "Probability:  0.01323\n"
     ]
    }
   ],
   "source": [
    "# Viterbi algorithm\n",
    "def viterbi(state_probability,transition_probability,emission_probability):\n",
    "    for k in range(3):\n",
    "        del_ip=[]\n",
    "        del_cp=[]\n",
    "        for j in range(2):\n",
    "            del_cp.append((state_probability[j]*transition_probability[j][0]*emission_probability[j][op_seq[k]]))\n",
    "            del_ip.append((state_probability[j]*transition_probability[j][1]*emission_probability[j][op_seq[k]]))\n",
    "        state_probability[0]=max(del_cp)\n",
    "        state_probability[1]=max(del_ip)\n",
    "    print(\"Probability: \",max(del_cp+del_ip))\n",
    "viterbi(state_probability,transition_probability,emission_probability)"
   ]
  }
 ],
 "metadata": {
  "kernelspec": {
   "display_name": "Python 3",
   "language": "python",
   "name": "python3"
  },
  "language_info": {
   "codemirror_mode": {
    "name": "ipython",
    "version": 3
   },
   "file_extension": ".py",
   "mimetype": "text/x-python",
   "name": "python",
   "nbconvert_exporter": "python",
   "pygments_lexer": "ipython3",
   "version": "3.12.0"
  }
 },
 "nbformat": 4,
 "nbformat_minor": 2
}
